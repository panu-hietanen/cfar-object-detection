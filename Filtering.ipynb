{
 "cells": [
  {
   "cell_type": "raw",
   "source": [
    "##%% md\n",
    " Using suggested implementation from README:"
   ],
   "metadata": {
    "collapsed": false
   },
   "id": "960c10551cc6e9ec"
  },
  {
   "cell_type": "code",
   "outputs": [],
   "source": [
    "import rasterio as rio\n",
    "import cfar_filters as cfar\n",
    "import numpy as np\n",
    "from pathlib import Path"
   ],
   "metadata": {
    "collapsed": false,
    "ExecuteTime": {
     "end_time": "2024-02-29T17:30:45.488158Z",
     "start_time": "2024-02-29T17:30:41.778494Z"
    }
   },
   "id": "4140857fe9fe07fd",
   "execution_count": 2
  },
  {
   "cell_type": "code",
   "outputs": [
    {
     "name": "stdout",
     "output_type": "stream",
     "text": [
      "Combined array shape: (2, 16393, 16748)\n"
     ]
    }
   ],
   "source": [
    "# Replace these paths with the actual paths to your TIFF files\n",
    "hh_image_path = Path('sentinel1-image-HH.tiff')\n",
    "hv_image_path = Path('sentinel1-image-HV.tiff')\n",
    "\n",
    "# Open and read the HH polarization image\n",
    "with rio.open(hh_image_path) as src:\n",
    "    hh_image = src.read(1)  # read(1) reads the first band\n",
    "\n",
    "# Open and read the HV polarization image\n",
    "with rio.open(hv_image_path) as src:\n",
    "    hv_image = src.read(1)  # read(1) reads the first band\n",
    "\n",
    "# Check if the images have the same shape\n",
    "if hh_image.shape != hv_image.shape:\n",
    "    raise ValueError(\"The images do not have the same shape!\")\n",
    "\n",
    "# Stack the images to create a single array of shape (2, X, Y)\n",
    "in_image = np.array([hh_image, hv_image], dtype=np.float32)\n",
    "\n",
    "print(f\"Combined array shape: {in_image.shape}\")"
   ],
   "metadata": {
    "collapsed": false,
    "ExecuteTime": {
     "end_time": "2024-02-29T17:30:50.824219Z",
     "start_time": "2024-02-29T17:30:47.794224Z"
    }
   },
   "id": "68c242d95878a0b5",
   "execution_count": 3
  },
  {
   "cell_type": "code",
   "outputs": [
    {
     "name": "stdout",
     "output_type": "stream",
     "text": [
      "(1, 16393, 16748)\n"
     ]
    }
   ],
   "source": [
    "image_filename = Path('sentinel1-image-HH.tiff')\n",
    "with rio.open(image_filename) as src:\n",
    "    in_image = src.read()\n",
    "\n",
    "print(in_image.shape)"
   ],
   "metadata": {
    "collapsed": false,
    "ExecuteTime": {
     "end_time": "2024-02-29T17:19:36.651789Z",
     "start_time": "2024-02-29T17:19:36.121786Z"
    }
   },
   "id": "533943f67626b130",
   "execution_count": 3
  },
  {
   "cell_type": "code",
   "outputs": [],
   "source": [
    "in_image = np.squeeze(in_image)\n",
    "print(in_image.shape)"
   ],
   "metadata": {
    "collapsed": false
   },
   "id": "9fa27b9da2d9cfb"
  },
  {
   "cell_type": "code",
   "outputs": [
    {
     "name": "stdout",
     "output_type": "stream",
     "text": [
      "(16393, 16748)\n",
      "(16393, 16748)\n"
     ]
    },
    {
     "name": "stderr",
     "output_type": "stream",
     "text": [
      "C:\\cfar-object-detection\\.venv\\lib\\site-packages\\pandas\\core\\nanops.py:1016: RuntimeWarning: invalid value encountered in subtract\n",
      "  sqr = _ensure_numeric((avg - values) ** 2)\n",
      "C:\\cfar-object-detection\\.venv\\lib\\site-packages\\pandas\\core\\nanops.py:1016: RuntimeWarning: invalid value encountered in subtract\n",
      "  sqr = _ensure_numeric((avg - values) ** 2)\n",
      "C:\\cfar-object-detection\\cfar_filters\\lognormal.py:59: UserWarning: Input image should be in decibel scale. Image smells like fishy\n",
      "  warnings.warn(f'Input image should be in decibel scale. Image smells like {smells_like(image)}',\n",
      "C:\\cfar-object-detection\\cfar_filters\\lognormal.py:62: RuntimeWarning: invalid value encountered in subtract\n",
      "  image = (image - np.nanmean(image)) / np.nanstd(image)  # standardize the data\n",
      "C:\\cfar-object-detection\\.venv\\lib\\site-packages\\numpy\\lib\\nanfunctions.py:1741: RuntimeWarning: invalid value encountered in subtract\n",
      "  np.subtract(arr, avg, out=arr, casting='unsafe', where=where)\n"
     ]
    }
   ],
   "source": [
    "# load your SAR image as a numpy array\n",
    "# image format should be a numpy.ndarray(float32) of shape (2,X,Y) with the order: HH, HV\n",
    "'''\n",
    "image_filename = Path('sentinel1-image-HH.tiff')\n",
    "with rio.open(image_filename) as src:\n",
    "    in_image = src.read()\n",
    "'''\n",
    "\n",
    "#in_image = in_image[1]\n",
    "# define mask - could also include landmask\n",
    "mask = np.nansum(in_image, axis=0)!=0\n",
    "print(mask.shape)\n",
    "in_image = in_image[0, :, :]\n",
    "print(in_image.shape)\n",
    "\n",
    "pfa = 1e-15  # probability of false alarm rate\n",
    "enl = 10.7  # equivalent number of looks of the image\n",
    "wi = 9  # diameter of the guard area\n",
    "wo = 15  # diameter of the clutter estimation area\n",
    "\n",
    "# using the gamma detector\n",
    "#gamma_outliers = cfar.gamma.detector(in_image, mask, pfa, enl, wi, wo)\n",
    "\n",
    "# using the lognormal detector\n",
    "db_image = cfar.utils.in2db(in_image)  # convert image to decibel using .utils\n",
    "lognormal_outliers = cfar.lognormal.detector(db_image, mask, pfa, wi, wo)\n",
    "\n",
    "# using the k detector\n",
    "N = 40  # number of steps for the LUT\n",
    "#k_outliers = cfar.kdistribution.detector(in_image, mask, N, pfa, enl, wi, wo)\n",
    "\n",
    "# remove objects smaller than 3 using .utils\n",
    "#gamma_outliers = cfar.utils.remove_small_objects(gamma_outliers, 2)"
   ],
   "metadata": {
    "collapsed": false,
    "is_executing": true,
    "ExecuteTime": {
     "start_time": "2024-02-29T17:32:32.122692Z"
    }
   },
   "id": "a95c05a7d9c33cd4",
   "execution_count": null
  }
 ],
 "metadata": {
  "kernelspec": {
   "display_name": "Python 3",
   "language": "python",
   "name": "python3"
  },
  "language_info": {
   "codemirror_mode": {
    "name": "ipython",
    "version": 2
   },
   "file_extension": ".py",
   "mimetype": "text/x-python",
   "name": "python",
   "nbconvert_exporter": "python",
   "pygments_lexer": "ipython2",
   "version": "2.7.6"
  }
 },
 "nbformat": 4,
 "nbformat_minor": 5
}
